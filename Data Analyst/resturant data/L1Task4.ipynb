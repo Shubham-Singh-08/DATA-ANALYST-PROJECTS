{
  "nbformat": 4,
  "nbformat_minor": 0,
  "metadata": {
    "colab": {
      "provenance": []
    },
    "kernelspec": {
      "name": "python3",
      "display_name": "Python 3"
    },
    "language_info": {
      "name": "python"
    }
  },
  "cells": [
    {
      "cell_type": "code",
      "execution_count": 3,
      "metadata": {
        "colab": {
          "base_uri": "https://localhost:8080/"
        },
        "id": "8DCIiOXjN_-r",
        "outputId": "086086b2-563d-43cb-dd9e-646e675216cd"
      },
      "outputs": [
        {
          "output_type": "stream",
          "name": "stdout",
          "text": [
            "Percentage of restaurants offering online delivery: 25.66%\n",
            "Average rating of restaurants with online delivery: 3.25\n",
            "Average rating of restaurants without online delivery: 2.47\n"
          ]
        }
      ],
      "source": [
        "import pandas as pd\n",
        "\n",
        "\n",
        "file_path = '/content/Dataset .csv'\n",
        "data = pd.read_csv(file_path)\n",
        "\n",
        "\n",
        "data.dropna(subset=['Has Online delivery', 'Aggregate rating'], inplace=True)\n",
        "\n",
        "\n",
        "total_restaurants = len(data)\n",
        "delivery_offered = data['Has Online delivery'].value_counts().get('Yes')\n",
        "percentage_delivery_offered = (delivery_offered / total_restaurants) * 100\n",
        "\n",
        "\n",
        "average_rating_with_delivery = data[data['Has Online delivery'] == 'Yes']['Aggregate rating'].mean()\n",
        "average_rating_without_delivery = data[data['Has Online delivery'] == 'No']['Aggregate rating'].mean()\n",
        "\n",
        "\n",
        "print(f\"Percentage of restaurants offering online delivery: {percentage_delivery_offered:.2f}%\")\n",
        "print(f\"Average rating of restaurants with online delivery: {average_rating_with_delivery:.2f}\")\n",
        "print(f\"Average rating of restaurants without online delivery: {average_rating_without_delivery:.2f}\")\n"
      ]
    }
  ]
}