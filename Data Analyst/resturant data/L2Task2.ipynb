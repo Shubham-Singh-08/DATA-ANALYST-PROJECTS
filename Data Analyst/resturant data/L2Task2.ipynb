{
  "nbformat": 4,
  "nbformat_minor": 0,
  "metadata": {
    "colab": {
      "provenance": []
    },
    "kernelspec": {
      "name": "python3",
      "display_name": "Python 3"
    },
    "language_info": {
      "name": "python"
    }
  },
  "cells": [
    {
      "cell_type": "code",
      "execution_count": 3,
      "metadata": {
        "colab": {
          "base_uri": "https://localhost:8080/"
        },
        "id": "uoNc7pMoczst",
        "outputId": "13dd1860-dc1f-4d0e-c145-fecd58c0b0c1"
      },
      "outputs": [
        {
          "output_type": "stream",
          "name": "stdout",
          "text": [
            "Most common 2-cuisine combinations: [(('Chinese', 'North Indian'), 1784), (('Mughlai', 'North Indian'), 832), (('Fast Food', 'North Indian'), 485)]\n",
            "Most common 3-cuisine combinations: [(('Chinese', 'Mughlai', 'North Indian'), 365), (('Chinese', 'North Indian', 'South Indian'), 279), (('Chinese', 'Continental', 'North Indian'), 253)]\n",
            "Cuisine combinations with the highest average ratings:\n",
            "cuisine_combination\n",
            "World Cuisine              4.9\n",
            "Deli, Italian              4.9\n",
            "Contemporary, European     4.9\n",
            "Indonesian, Sunda          4.9\n",
            "Bar Food, Burger, Steak    4.9\n",
            "Name: Aggregate rating, dtype: float64\n"
          ]
        }
      ],
      "source": [
        "import pandas as pd\n",
        "from itertools import combinations\n",
        "from collections import Counter\n",
        "\n",
        "\n",
        "file_path = '/content/Dataset .csv'\n",
        "data = pd.read_csv(file_path)\n",
        "\n",
        "\n",
        "data.dropna(subset=['Cuisines', 'Aggregate rating'], inplace=True)\n",
        "\n",
        "\n",
        "data['Cuisines'] = data['Cuisines'].str.split(',').apply(lambda x: [c.strip() for c in x])\n",
        "\n",
        "\n",
        "def count_combinations(cuisine_lists, n):\n",
        "    comb_counter = Counter()\n",
        "    for cuisines in cuisine_lists:\n",
        "        comb_counter.update(combinations(sorted(cuisines), n))\n",
        "    return comb_counter\n",
        "\n",
        "comb_2 = count_combinations(data['Cuisines'], 2)\n",
        "comb_3 = count_combinations(data['Cuisines'], 3)\n",
        "\n",
        "\n",
        "most_common_2_comb = comb_2.most_common(3)\n",
        "most_common_3_comb = comb_3.most_common(3)\n",
        "\n",
        "print(\"Most common 2-cuisine combinations:\", most_common_2_comb)\n",
        "print(\"Most common 3-cuisine combinations:\", most_common_3_comb)\n",
        "\n",
        "\n",
        "data['cuisine_combination'] = data['Cuisines'].apply(lambda x: ', '.join(sorted(x)))\n",
        "\n",
        "\n",
        "average_ratings_per_comb = data.groupby('cuisine_combination')['Aggregate rating'].mean()\n",
        "\n",
        "\n",
        "top_rated_combinations = average_ratings_per_comb.sort_values(ascending=False).head(5)\n",
        "\n",
        "print(\"Cuisine combinations with the highest average ratings:\")\n",
        "print(top_rated_combinations)\n"
      ]
    }
  ]
}