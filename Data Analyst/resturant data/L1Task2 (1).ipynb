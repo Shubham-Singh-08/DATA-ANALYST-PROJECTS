{
  "nbformat": 4,
  "nbformat_minor": 0,
  "metadata": {
    "colab": {
      "provenance": []
    },
    "kernelspec": {
      "name": "python3",
      "display_name": "Python 3"
    },
    "language_info": {
      "name": "python"
    }
  },
  "cells": [
    {
      "cell_type": "code",
      "execution_count": 1,
      "metadata": {
        "colab": {
          "base_uri": "https://localhost:8080/"
        },
        "id": "xHw9oYNXEvrG",
        "outputId": "b42a553d-800e-4737-b2c7-8dc0964b4697"
      },
      "outputs": [
        {
          "output_type": "stream",
          "name": "stdout",
          "text": [
            "City with the highest number of restaurants: New Delhi (5473 restaurants)\n",
            "City with the highest average rating: Inner City (Average rating: 4.63)\n"
          ]
        }
      ],
      "source": [
        "import pandas as pd\n",
        "\n",
        "\n",
        "file_path = '/content/Dataset .csv'\n",
        "data = pd.read_csv(file_path)\n",
        "\n",
        "\n",
        "data.dropna(subset=['City', 'Average_Rating'], inplace=True)\n",
        "\n",
        "\n",
        "city_counts = data['City'].value_counts()\n",
        "\n",
        "\n",
        "city_with_most_restaurants = city_counts.idxmax()\n",
        "most_restaurants_count = city_counts.max()\n",
        "\n",
        "print(f\"City with the highest number of restaurants: {city_with_most_restaurants} ({most_restaurants_count} restaurants)\")\n",
        "\n",
        "\n",
        "average_ratings = data.groupby('City')['Average_Rating'].mean()\n",
        "\n",
        "\n",
        "city_with_highest_rating = average_ratings.idxmax()\n",
        "highest_avg_rating = average_ratings.max()\n",
        "\n",
        "print(f\"City with the highest average rating: {city_with_highest_rating} (Average rating: {highest_avg_rating:.2f})\")\n",
        "\n"
      ]
    }
  ]
}