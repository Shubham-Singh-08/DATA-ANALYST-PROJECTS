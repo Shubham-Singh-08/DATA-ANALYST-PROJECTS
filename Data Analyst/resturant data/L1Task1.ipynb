{
  "nbformat": 4,
  "nbformat_minor": 0,
  "metadata": {
    "colab": {
      "provenance": []
    },
    "kernelspec": {
      "name": "python3",
      "display_name": "Python 3"
    },
    "language_info": {
      "name": "python"
    }
  },
  "cells": [
    {
      "cell_type": "code",
      "execution_count": 4,
      "metadata": {
        "colab": {
          "base_uri": "https://localhost:8080/"
        },
        "id": "gYhytYzj_fEp",
        "outputId": "e1220a15-fed7-4d83-b92c-d7a984132760"
      },
      "outputs": [
        {
          "output_type": "stream",
          "name": "stdout",
          "text": [
            "Percentage of restaurants serving each of the top 3 cuisines:\n",
            "North Indian: 9.80%\n",
            "North Indian, Chinese: 5.35%\n",
            "Chinese: 3.71%\n"
          ]
        }
      ],
      "source": [
        "import pandas as pd\n",
        "\n",
        "\n",
        "file_path = '/content/Dataset .csv'\n",
        "data = pd.read_csv(file_path)\n",
        "\n",
        "\n",
        "data['Cuisines'].dropna(inplace=True)\n",
        "\n",
        "\n",
        "cuisine_counts = data['Cuisines'].value_counts()\n",
        "\n",
        "\n",
        "top_cuisines = cuisine_counts.head(3)\n",
        "\n",
        "\n",
        "total_restaurants = len(data)\n",
        "top_cuisines_percent = (top_cuisines / total_restaurants) * 100\n",
        "\n",
        "\n",
        "print(\"Percentage of restaurants serving each of the top 3 cuisines:\")\n",
        "for cuisine, percent in top_cuisines_percent.items():\n",
        "    print(f\"{cuisine}: {percent:.2f}%\")\n"
      ]
    }
  ]
}